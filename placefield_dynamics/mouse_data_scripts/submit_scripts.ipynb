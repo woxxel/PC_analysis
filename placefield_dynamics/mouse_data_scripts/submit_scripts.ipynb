{
 "cells": [
  {
   "cell_type": "code",
   "execution_count": 3,
   "id": "c6322266",
   "metadata": {},
   "outputs": [
    {
     "name": "stdout",
     "output_type": "stream",
     "text": [
      "The autoreload extension is already loaded. To reload it, use:\n",
      "  %reload_ext autoreload\n",
      "Root directory: /home/wollex/Data/Science/WolfGroup/PlaceFields/Programs/PC_analysis\n"
     ]
    }
   ],
   "source": [
    "%load_ext autoreload\n",
    "%autoreload 2\n",
    "\n",
    "import sys\n",
    "from pathlib import Path\n",
    "\n",
    "root_dir = Path.cwd().parents[1]\n",
    "if not root_dir in sys.path: sys.path.insert(0,str(root_dir))\n",
    "print(f\"Root directory: {root_dir}\")\n",
    "\n",
    "from placefield_dynamics.mouse_data_scripts.process_data_on_hpc import run_placecell_detection"
   ]
  },
  {
   "cell_type": "code",
   "execution_count": 10,
   "id": "c3ae836b",
   "metadata": {},
   "outputs": [
    {
     "name": "stdout",
     "output_type": "stream",
     "text": [
      "0: dir='/usr/users/cidbn1/placefields/AlzheimerMice_Hayashi/845ad/Session01/'\n",
      "b'Submitted batch job 9819779\\n' b''\n",
      "1: dir='/usr/users/cidbn1/placefields/AlzheimerMice_Hayashi/845ad/Session02/'\n",
      "b'Submitted batch job 9819780\\n' b''\n"
     ]
    }
   ],
   "source": [
    "path_data = Path(\"/usr/users/cidbn1/placefields/AlzheimerMice_Hayashi/\")\n",
    "\n",
    "run_placecell_detection(\n",
    "    path_mouse=path_data / \"845ad\",\n",
    "    suffix=\"redetected\",\n",
    "    specific_sessions=[1,2]\n",
    ")"
   ]
  }
 ],
 "metadata": {
  "kernelspec": {
   "display_name": "caiman",
   "language": "python",
   "name": "python3"
  },
  "language_info": {
   "codemirror_mode": {
    "name": "ipython",
    "version": 3
   },
   "file_extension": ".py",
   "mimetype": "text/x-python",
   "name": "python",
   "nbconvert_exporter": "python",
   "pygments_lexer": "ipython3",
   "version": "3.11.7"
  }
 },
 "nbformat": 4,
 "nbformat_minor": 5
}
