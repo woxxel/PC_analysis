{
 "cells": [
  {
   "cell_type": "code",
   "execution_count": 1,
   "id": "c6322266",
   "metadata": {},
   "outputs": [
    {
     "name": "stdout",
     "output_type": "stream",
     "text": [
      "Root directory: /home/wollex/Data/Science/WolfGroup/PlaceFields/Programs/PC_analysis\n"
     ]
    },
    {
     "name": "stderr",
     "output_type": "stream",
     "text": [
      "/home/wollex/miniforge3/envs/caiman/lib/python3.11/site-packages/paramiko/pkey.py:100: CryptographyDeprecationWarning: TripleDES has been moved to cryptography.hazmat.decrepit.ciphers.algorithms.TripleDES and will be removed from cryptography.hazmat.primitives.ciphers.algorithms in 48.0.0.\n",
      "  \"cipher\": algorithms.TripleDES,\n",
      "/home/wollex/miniforge3/envs/caiman/lib/python3.11/site-packages/paramiko/transport.py:259: CryptographyDeprecationWarning: TripleDES has been moved to cryptography.hazmat.decrepit.ciphers.algorithms.TripleDES and will be removed from cryptography.hazmat.primitives.ciphers.algorithms in 48.0.0.\n",
      "  \"class\": algorithms.TripleDES,\n"
     ]
    }
   ],
   "source": [
    "%load_ext autoreload\n",
    "%autoreload 2\n",
    "\n",
    "import sys\n",
    "from pathlib import Path\n",
    "\n",
    "root_dir = Path.cwd().parents[1]\n",
    "if not root_dir in sys.path: sys.path.insert(0,str(root_dir))\n",
    "print(f\"Root directory: {root_dir}\")\n",
    "\n",
    "from placefield_dynamics.mouse_data_scripts.process_data_on_hpc import run_placecell_detection"
   ]
  },
  {
   "cell_type": "code",
   "execution_count": null,
   "id": "c3ae836b",
   "metadata": {},
   "outputs": [
    {
     "ename": "gaierror",
     "evalue": "[Errno -2] Name or service not known",
     "output_type": "error",
     "traceback": [
      "\u001b[31m---------------------------------------------------------------------------\u001b[39m",
      "\u001b[31mgaierror\u001b[39m                                  Traceback (most recent call last)",
      "\u001b[36mCell\u001b[39m\u001b[36m \u001b[39m\u001b[32mIn[3]\u001b[39m\u001b[32m, line 3\u001b[39m\n\u001b[32m      1\u001b[39m path_data = Path(\u001b[33m\"\u001b[39m\u001b[33m/usr/users/cidbn1/placefields/AlzheimerMice_Hayashi/\u001b[39m\u001b[33m\"\u001b[39m)\n\u001b[32m----> \u001b[39m\u001b[32m3\u001b[39m \u001b[43mrun_placecell_detection\u001b[49m\u001b[43m(\u001b[49m\n\u001b[32m      4\u001b[39m \u001b[43m    \u001b[49m\u001b[43mpath_mouse\u001b[49m\u001b[43m=\u001b[49m\u001b[43mpath_data\u001b[49m\u001b[43m \u001b[49m\u001b[43m/\u001b[49m\u001b[43m \u001b[49m\u001b[33;43m\"\u001b[39;49m\u001b[33;43m845ad\u001b[39;49m\u001b[33;43m\"\u001b[39;49m\u001b[43m,\u001b[49m\n\u001b[32m      5\u001b[39m \u001b[43m    \u001b[49m\u001b[43msuffix\u001b[49m\u001b[43m=\u001b[49m\u001b[33;43m\"\u001b[39;49m\u001b[33;43mredetected\u001b[39;49m\u001b[33;43m\"\u001b[39;49m\u001b[43m,\u001b[49m\n\u001b[32m      6\u001b[39m \u001b[43m    \u001b[49m\u001b[43mspecific_sessions\u001b[49m\u001b[43m=\u001b[49m\u001b[43m[\u001b[49m\u001b[32;43m1\u001b[39;49m\u001b[43m,\u001b[49m\u001b[32;43m2\u001b[39;49m\u001b[43m,\u001b[49m\u001b[32;43m3\u001b[39;49m\u001b[43m]\u001b[49m\u001b[43m,\u001b[49m\n\u001b[32m      7\u001b[39m \u001b[43m    \u001b[49m\u001b[43mhpc\u001b[49m\u001b[43m=\u001b[49m\u001b[33;43m\"\u001b[39;49m\u001b[33;43mother\u001b[39;49m\u001b[33;43m\"\u001b[39;49m\n\u001b[32m      8\u001b[39m \u001b[43m)\u001b[49m\n",
      "\u001b[36mFile \u001b[39m\u001b[32m~/Data/Science/WolfGroup/PlaceFields/Programs/PC_analysis/placefield_dynamics/mouse_data_scripts/process_data_on_hpc.py:695\u001b[39m, in \u001b[36mrun_placecell_detection\u001b[39m\u001b[34m(path_mouse, result_files, suffix, exclude, file_type, specific_sessions, hpc)\u001b[39m\n\u001b[32m    692\u001b[39m     mouse = os.path.basename(path_mouse)\n\u001b[32m    693\u001b[39m     cpus = \u001b[32m64\u001b[39m\n\u001b[32m--> \u001b[39m\u001b[32m695\u001b[39m     client, path_code, batch_params = \u001b[43mset_hpc_params\u001b[49m\u001b[43m(\u001b[49m\u001b[43mhpc\u001b[49m\u001b[43m)\u001b[49m\n\u001b[32m    697\u001b[39m     placecell_detection_script = \u001b[33mf\u001b[39m\u001b[33m\"\u001b[39m\u001b[38;5;132;01m{\u001b[39;00mpath_code\u001b[38;5;132;01m}\u001b[39;00m\u001b[33m/placecell_detection.py\u001b[39m\u001b[33m\"\u001b[39m\n\u001b[32m    699\u001b[39m     construct_paths = \u001b[33mf\u001b[39m\u001b[33m\"\"\"\u001b[39m\n\u001b[32m    700\u001b[39m \u001b[33m_, path_results = set_paths_default(pathMouse=path_mouse,fileName_in=\u001b[39m\u001b[33m'\u001b[39m\u001b[38;5;132;01m{\u001b[39;00mresult_files\u001b[38;5;132;01m}\u001b[39;00m\u001b[33m'\u001b[39m\u001b[33m,fileType=\u001b[39m\u001b[33m'\u001b[39m\u001b[38;5;132;01m{\u001b[39;00mfile_type\u001b[38;5;132;01m}\u001b[39;00m\u001b[33m'\u001b[39m\u001b[33m,suffix=\u001b[39m\u001b[33m'\u001b[39m\u001b[38;5;132;01m{\u001b[39;00msuffix\u001b[38;5;132;01m}\u001b[39;00m\u001b[33m'\u001b[39m\u001b[33m,exclude=\u001b[39m\u001b[33m'\u001b[39m\u001b[38;5;132;01m{\u001b[39;00mexclude\u001b[38;5;132;01m}\u001b[39;00m\u001b[33m'\u001b[39m\u001b[33m)\u001b[39m\n\u001b[32m    701\u001b[39m \u001b[33m\"\"\"\u001b[39m\n",
      "\u001b[36mFile \u001b[39m\u001b[32m~/Data/Science/WolfGroup/PlaceFields/Programs/PC_analysis/placefield_dynamics/mouse_data_scripts/utils/connections.py:44\u001b[39m, in \u001b[36mset_hpc_params\u001b[39m\u001b[34m(hpc)\u001b[39m\n\u001b[32m     42\u001b[39m     proxyServerName = \u001b[33m\"\u001b[39m\u001b[33mglogin.gwdg.de\u001b[39m\u001b[33m\"\u001b[39m\n\u001b[32m     43\u001b[39m     serverName = \u001b[33m\"\u001b[39m\u001b[33mgwdu101.gwdg.de\u001b[39m\u001b[33m\"\u001b[39m\n\u001b[32m---> \u001b[39m\u001b[32m44\u001b[39m     client = \u001b[43mestablish_connection\u001b[49m\u001b[43m(\u001b[49m\n\u001b[32m     45\u001b[39m \u001b[43m        \u001b[49m\u001b[43mserverName\u001b[49m\u001b[43m,\u001b[49m\u001b[43m \u001b[49m\u001b[43musername\u001b[49m\u001b[43m,\u001b[49m\u001b[43m \u001b[49m\u001b[43mssh_key_file\u001b[49m\u001b[43m,\u001b[49m\u001b[43m \u001b[49m\u001b[43mproxyJump\u001b[49m\u001b[43m=\u001b[49m\u001b[43mproxyServerName\u001b[49m\n\u001b[32m     46\u001b[39m \u001b[43m    \u001b[49m\u001b[43m)\u001b[49m\n\u001b[32m     48\u001b[39m path_code = \u001b[33m\"\u001b[39m\u001b[33m~/program_code/PC_analysis\u001b[39m\u001b[33m\"\u001b[39m\n\u001b[32m     50\u001b[39m \u001b[38;5;66;03m## setting sbatch parameters\u001b[39;00m\n",
      "\u001b[36mFile \u001b[39m\u001b[32m~/Data/Science/WolfGroup/PlaceFields/Programs/PC_analysis/placefield_dynamics/mouse_data_scripts/utils/connections.py:17\u001b[39m, in \u001b[36mestablish_connection\u001b[39m\u001b[34m(serverName, username, ssh_key_file, proxyJump)\u001b[39m\n\u001b[32m     13\u001b[39m client.set_missing_host_key_policy(paramiko.AutoAddPolicy())\n\u001b[32m     15\u001b[39m \u001b[38;5;28;01mif\u001b[39;00m proxyJump:\n\u001b[32m---> \u001b[39m\u001b[32m17\u001b[39m     client_proxy = \u001b[43mestablish_connection\u001b[49m\u001b[43m(\u001b[49m\u001b[43mproxyJump\u001b[49m\u001b[43m,\u001b[49m\u001b[43m \u001b[49m\u001b[43musername\u001b[49m\u001b[43m,\u001b[49m\u001b[43m \u001b[49m\u001b[43mssh_key_file\u001b[49m\u001b[43m)\u001b[49m\n\u001b[32m     19\u001b[39m     transport = client_proxy.get_transport()\n\u001b[32m     20\u001b[39m     dest_addr = (serverIP, \u001b[32m22\u001b[39m)\n",
      "\u001b[36mFile \u001b[39m\u001b[32m~/Data/Science/WolfGroup/PlaceFields/Programs/PC_analysis/placefield_dynamics/mouse_data_scripts/utils/connections.py:7\u001b[39m, in \u001b[36mestablish_connection\u001b[39m\u001b[34m(serverName, username, ssh_key_file, proxyJump)\u001b[39m\n\u001b[32m      4\u001b[39m \u001b[38;5;28;01mdef\u001b[39;00m\u001b[38;5;250m \u001b[39m\u001b[34mestablish_connection\u001b[39m(serverName, username, ssh_key_file, proxyJump=\u001b[38;5;28;01mNone\u001b[39;00m):\n\u001b[32m      5\u001b[39m \n\u001b[32m      6\u001b[39m     \u001b[38;5;66;03m## getting IP address of server, as hostname can not be directly used\u001b[39;00m\n\u001b[32m----> \u001b[39m\u001b[32m7\u001b[39m     serverIP = \u001b[43msocket\u001b[49m\u001b[43m.\u001b[49m\u001b[43mgetaddrinfo\u001b[49m\u001b[43m(\u001b[49m\u001b[43mserverName\u001b[49m\u001b[43m,\u001b[49m\u001b[43m \u001b[49m\u001b[38;5;28;43;01mNone\u001b[39;49;00m\u001b[43m)\u001b[49m[\u001b[32m0\u001b[39m][\u001b[32m4\u001b[39m][\n\u001b[32m      8\u001b[39m         \u001b[32m0\u001b[39m\n\u001b[32m      9\u001b[39m     ]  \u001b[38;5;66;03m## kinda hacky, but works...\u001b[39;00m\n\u001b[32m     10\u001b[39m     pkey = paramiko.Ed25519Key.from_private_key_file(ssh_key_file)\n\u001b[32m     12\u001b[39m     client = paramiko.SSHClient()\n",
      "\u001b[36mFile \u001b[39m\u001b[32m~/miniforge3/envs/caiman/lib/python3.11/socket.py:962\u001b[39m, in \u001b[36mgetaddrinfo\u001b[39m\u001b[34m(host, port, family, type, proto, flags)\u001b[39m\n\u001b[32m    959\u001b[39m \u001b[38;5;66;03m# We override this function since we want to translate the numeric family\u001b[39;00m\n\u001b[32m    960\u001b[39m \u001b[38;5;66;03m# and socket type values to enum constants.\u001b[39;00m\n\u001b[32m    961\u001b[39m addrlist = []\n\u001b[32m--> \u001b[39m\u001b[32m962\u001b[39m \u001b[38;5;28;01mfor\u001b[39;00m res \u001b[38;5;129;01min\u001b[39;00m \u001b[43m_socket\u001b[49m\u001b[43m.\u001b[49m\u001b[43mgetaddrinfo\u001b[49m\u001b[43m(\u001b[49m\u001b[43mhost\u001b[49m\u001b[43m,\u001b[49m\u001b[43m \u001b[49m\u001b[43mport\u001b[49m\u001b[43m,\u001b[49m\u001b[43m \u001b[49m\u001b[43mfamily\u001b[49m\u001b[43m,\u001b[49m\u001b[43m \u001b[49m\u001b[38;5;28;43mtype\u001b[39;49m\u001b[43m,\u001b[49m\u001b[43m \u001b[49m\u001b[43mproto\u001b[49m\u001b[43m,\u001b[49m\u001b[43m \u001b[49m\u001b[43mflags\u001b[49m\u001b[43m)\u001b[49m:\n\u001b[32m    963\u001b[39m     af, socktype, proto, canonname, sa = res\n\u001b[32m    964\u001b[39m     addrlist.append((_intenum_converter(af, AddressFamily),\n\u001b[32m    965\u001b[39m                      _intenum_converter(socktype, SocketKind),\n\u001b[32m    966\u001b[39m                      proto, canonname, sa))\n",
      "\u001b[31mgaierror\u001b[39m: [Errno -2] Name or service not known"
     ]
    }
   ],
   "source": [
    "path_data = Path(\"/usr/users/cidbn1/placefields/AlzheimerMice_Hayashi/\")\n",
    "\n",
    "run_placecell_detection(\n",
    "    path_mouse=path_data / \"845ad\",\n",
    "    suffix=\"redetected\",\n",
    "    specific_sessions=[1,2,3],\n",
    "    # hpc=\"other\"\n",
    ")"
   ]
  }
 ],
 "metadata": {
  "kernelspec": {
   "display_name": "caiman",
   "language": "python",
   "name": "python3"
  },
  "language_info": {
   "codemirror_mode": {
    "name": "ipython",
    "version": 3
   },
   "file_extension": ".py",
   "mimetype": "text/x-python",
   "name": "python",
   "nbconvert_exporter": "python",
   "pygments_lexer": "ipython3",
   "version": "3.11.7"
  }
 },
 "nbformat": 4,
 "nbformat_minor": 5
}
