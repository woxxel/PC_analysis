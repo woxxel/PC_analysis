{
 "cells": [
  {
   "cell_type": "code",
   "execution_count": 2,
   "id": "b6e4f481",
   "metadata": {},
   "outputs": [],
   "source": [
    "import os\n",
    "import re\n",
    "\n",
    "def extract_basename(folder_path):\n",
    "    tif_files = [f for f in os.listdir(folder_path) if f.endswith('.tif')]\n",
    "    pattern = re.compile(r'^(.*?)(\\d{4})\\.tif$')\n",
    "    for filename in tif_files:\n",
    "        match = pattern.match(filename)\n",
    "        if match:\n",
    "            return match.group(1)\n",
    "    return None\n",
    "\n",
    "def check_all_image_files_present(folder_path, max_frame):\n",
    "    basename = extract_basename(folder_path)\n",
    "    if not basename:\n",
    "        print(\"No valid .tif files found to extract basename.\")\n",
    "        return None\n",
    "    missing_frames = []\n",
    "    for frame_num in range(1,max_frame + 1):\n",
    "        filename = f\"{basename}{frame_num:04d}.tif\"\n",
    "        filepath = os.path.join(folder_path, filename)\n",
    "        if not os.path.isfile(filepath):\n",
    "            missing_frames.append(frame_num)\n",
    "    if not missing_frames:\n",
    "        return True\n",
    "    else:\n",
    "        return missing_frames\n",
    "\n",
    "# # Example usage:\n",
    "# if __name__ == \"__main__\":\n",
    "#     folder = input(\"Enter folder path: \")\n",
    "#     max_frame = int(input(\"Enter maximum frame number: \"))\n",
    "#     result = check_all_image_files_present(folder, max_frame)\n",
    "#     if result is True:\n",
    "#         print(\"true\")\n",
    "#     elif result is None:\n",
    "#         print(\"Could not extract basename.\")\n",
    "#     else:\n",
    "#         print(\"Missing frame numbers:\", result)"
   ]
  },
  {
   "cell_type": "code",
   "execution_count": 4,
   "id": "985d13bc",
   "metadata": {},
   "outputs": [
    {
     "name": "stdout",
     "output_type": "stream",
     "text": [
      "No valid .tif files found to extract basename.\n"
     ]
    }
   ],
   "source": [
    "from pathlib import Path\n",
    "import pandas as pd\n",
    "results = {}\n",
    "\n",
    "mouse = \"494_copy\"\n",
    "mousePath = Path(f\"../../data/KotaroData/{mouse}/\")\n",
    "\n",
    "session_folders = sorted(mousePath.glob('Session*'))\n",
    "for folder in session_folders:\n",
    "    result = check_all_image_files_present(folder / \"images\", 9162)\n",
    "    session_name = folder.name\n",
    "    if result is True:\n",
    "        results[session_name] = []\n",
    "    elif result is None:\n",
    "        results[session_name] = ['Could not extract basename.']\n",
    "    else:\n",
    "        results[session_name] = result\n",
    "\n",
    "# Find the maximum number of missing frames for alignment\n",
    "max_missing = max(len(v) for v in results.values())\n",
    "data = {k: v + [''] * (max_missing - len(v)) for k, v in results.items()}\n",
    "\n",
    "df = pd.DataFrame(data)\n",
    "df.to_csv(f\"m{mouse}_missing_frames_report.csv\", index=False)"
   ]
  }
 ],
 "metadata": {
  "kernelspec": {
   "display_name": "caiman",
   "language": "python",
   "name": "python3"
  },
  "language_info": {
   "codemirror_mode": {
    "name": "ipython",
    "version": 3
   },
   "file_extension": ".py",
   "mimetype": "text/x-python",
   "name": "python",
   "nbconvert_exporter": "python",
   "pygments_lexer": "ipython3",
   "version": "3.11.7"
  }
 },
 "nbformat": 4,
 "nbformat_minor": 5
}
